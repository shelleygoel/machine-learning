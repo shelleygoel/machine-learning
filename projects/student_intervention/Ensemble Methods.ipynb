{
 "cells": [
  {
   "cell_type": "markdown",
   "metadata": {
    "cell_style": "center",
    "run_control": {
     "frozen": false,
     "read_only": false
    }
   },
   "source": [
    "# Importing Data\n",
    "\n",
    "The dataset used in this project is included as `student-data.csv`. This dataset has the following attributes:\n",
    "\n",
    "- `school` : student's school (binary: \"GP\" or \"MS\")\n",
    "- `sex` : student's sex (binary: \"F\" - female or \"M\" - male)\n",
    "- `age` : student's age (numeric: from 15 to 22)\n",
    "- `address` : student's home address type (binary: \"U\" - urban or \"R\" - rural)\n",
    "- `famsize` : family size (binary: \"LE3\" - less or equal to 3 or \"GT3\" - greater than 3)\n",
    "- `Pstatus` : parent's cohabitation status (binary: \"T\" - living together or \"A\" - apart)\n",
    "- `Medu` : mother's education (numeric: 0 - none,  1 - primary education (4th grade), 2 - 5th to 9th grade, 3 - secondary education or 4 - higher education)\n",
    "- `Fedu` : father's education (numeric: 0 - none,  1 - primary education (4th grade), 2 - 5th to 9th grade, 3 - secondary education or 4 - higher education)\n",
    "- `Mjob` : mother's job (nominal: \"teacher\", \"health\" care related, civil \"services\" (e.g. administrative or police), \"at_home\" or \"other\")\n",
    "- `Fjob` : father's job (nominal: \"teacher\", \"health\" care related, civil \"services\" (e.g. administrative or police), \"at_home\" or \"other\")\n",
    "- `reason` : reason to choose this school (nominal: close to \"home\", school \"reputation\", \"course\" preference or \"other\")\n",
    "- `guardian` : student's guardian (nominal: \"mother\", \"father\" or \"other\")\n",
    "- `traveltime` : home to school travel time (numeric: 1 - <15 min., 2 - 15 to 30 min., 3 - 30 min. to 1 hour, or 4 - >1 hour)\n",
    "- `studytime` : weekly study time (numeric: 1 - <2 hours, 2 - 2 to 5 hours, 3 - 5 to 10 hours, or 4 - >10 hours)\n",
    "- `failures` : number of past class failures (numeric: n if 1<=n<3, else 4)\n",
    "- `schoolsup` : extra educational support (binary: yes or no)\n",
    "- `famsup` : family educational support (binary: yes or no)\n",
    "- `paid` : extra paid classes within the course subject (Math or Portuguese) (binary: yes or no)\n",
    "- `activities` : extra-curricular activities (binary: yes or no)\n",
    "- `nursery` : attended nursery school (binary: yes or no)\n",
    "- `higher` : wants to take higher education (binary: yes or no)\n",
    "- `internet` : Internet access at home (binary: yes or no)\n",
    "- `romantic` : with a romantic relationship (binary: yes or no)\n",
    "- `famrel` : quality of family relationships (numeric: from 1 - very bad to 5 - excellent)\n",
    "- `freetime` : free time after school (numeric: from 1 - very low to 5 - very high)\n",
    "- `goout` : going out with friends (numeric: from 1 - very low to 5 - very high)\n",
    "- `Dalc` : workday alcohol consumption (numeric: from 1 - very low to 5 - very high)\n",
    "- `Walc` : weekend alcohol consumption (numeric: from 1 - very low to 5 - very high)\n",
    "- `health` : current health status (numeric: from 1 - very bad to 5 - very good)\n",
    "- `absences` : number of school absences (numeric: from 0 to 93)\n",
    "- `passed` : did the student pass the final exam (binary: yes or no)\n",
    "\n"
   ]
  },
  {
   "cell_type": "code",
   "execution_count": 4,
   "metadata": {
    "collapsed": false,
    "run_control": {
     "frozen": false,
     "read_only": false
    },
    "scrolled": false
   },
   "outputs": [
    {
     "name": "stdout",
     "output_type": "stream",
     "text": [
      "Student data read successfully!\n"
     ]
    }
   ],
   "source": [
    "# Import libraries\n",
    "import numpy as np\n",
    "import pandas as pd\n",
    "from time import time\n",
    "from IPython.display import display\n",
    "from time import time\n",
    "\n",
    "# Read student data\n",
    "student_data = pd.read_csv(\"student-data.csv\")\n",
    "print \"Student data read successfully!\""
   ]
  },
  {
   "cell_type": "markdown",
   "metadata": {},
   "source": [
    "# Data Exploration"
   ]
  },
  {
   "cell_type": "code",
   "execution_count": 5,
   "metadata": {
    "collapsed": false,
    "run_control": {
     "frozen": false,
     "read_only": false
    },
    "scrolled": false
   },
   "outputs": [
    {
     "name": "stdout",
     "output_type": "stream",
     "text": [
      "Total number of students: 395\n",
      "Number of features: 31\n",
      "Number of students who passed: 265\n",
      "Number of students who failed: 130\n",
      "Graduation rate of the class: 67.09%\n"
     ]
    }
   ],
   "source": [
    "# TODO: Calculate number of students\n",
    "n_students = student_data.shape[0]\n",
    "\n",
    "# TODO: Calculate number of features\n",
    "n_features = student_data.shape[1]\n",
    "\n",
    "# TODO: Calculate passing students\n",
    "n_passed = sum(student_data['passed'] == 'yes')\n",
    "\n",
    "# TODO: Calculate failing students\n",
    "n_failed = sum(student_data['passed'] == 'no')\n",
    "\n",
    "# TODO: Calculate graduation rate\n",
    "grad_rate = n_passed / float(n_students) * 100\n",
    "\n",
    "# Print the results\n",
    "print \"Total number of students: {}\".format(n_students)\n",
    "print \"Number of features: {}\".format(n_features)\n",
    "print \"Number of students who passed: {}\".format(n_passed)\n",
    "print \"Number of students who failed: {}\".format(n_failed)\n",
    "print \"Graduation rate of the class: {:.2f}%\".format(grad_rate)"
   ]
  },
  {
   "cell_type": "markdown",
   "metadata": {},
   "source": [
    "## Preprocess features, Extract Labels"
   ]
  },
  {
   "cell_type": "code",
   "execution_count": 6,
   "metadata": {
    "code_folding": [],
    "collapsed": false,
    "run_control": {
     "frozen": false,
     "read_only": false
    },
    "scrolled": true
   },
   "outputs": [
    {
     "name": "stdout",
     "output_type": "stream",
     "text": [
      "Feature columns:\n",
      "['school', 'sex', 'age', 'address', 'famsize', 'Pstatus', 'Medu', 'Fedu', 'Mjob', 'Fjob', 'reason', 'guardian', 'traveltime', 'studytime', 'failures', 'schoolsup', 'famsup', 'paid', 'activities', 'nursery', 'higher', 'internet', 'romantic', 'famrel', 'freetime', 'goout', 'Dalc', 'Walc', 'health', 'absences']\n",
      "\n",
      "Target column: passed\n",
      "\n",
      "Feature values:\n"
     ]
    },
    {
     "data": {
      "text/html": [
       "<div>\n",
       "<table border=\"1\" class=\"dataframe\">\n",
       "  <thead>\n",
       "    <tr style=\"text-align: right;\">\n",
       "      <th></th>\n",
       "      <th>school</th>\n",
       "      <th>sex</th>\n",
       "      <th>age</th>\n",
       "      <th>address</th>\n",
       "      <th>famsize</th>\n",
       "      <th>Pstatus</th>\n",
       "      <th>Medu</th>\n",
       "      <th>Fedu</th>\n",
       "      <th>Mjob</th>\n",
       "      <th>Fjob</th>\n",
       "      <th>...</th>\n",
       "      <th>higher</th>\n",
       "      <th>internet</th>\n",
       "      <th>romantic</th>\n",
       "      <th>famrel</th>\n",
       "      <th>freetime</th>\n",
       "      <th>goout</th>\n",
       "      <th>Dalc</th>\n",
       "      <th>Walc</th>\n",
       "      <th>health</th>\n",
       "      <th>absences</th>\n",
       "    </tr>\n",
       "  </thead>\n",
       "  <tbody>\n",
       "    <tr>\n",
       "      <th>0</th>\n",
       "      <td>GP</td>\n",
       "      <td>F</td>\n",
       "      <td>18</td>\n",
       "      <td>U</td>\n",
       "      <td>GT3</td>\n",
       "      <td>A</td>\n",
       "      <td>4</td>\n",
       "      <td>4</td>\n",
       "      <td>at_home</td>\n",
       "      <td>teacher</td>\n",
       "      <td>...</td>\n",
       "      <td>yes</td>\n",
       "      <td>no</td>\n",
       "      <td>no</td>\n",
       "      <td>4</td>\n",
       "      <td>3</td>\n",
       "      <td>4</td>\n",
       "      <td>1</td>\n",
       "      <td>1</td>\n",
       "      <td>3</td>\n",
       "      <td>6</td>\n",
       "    </tr>\n",
       "    <tr>\n",
       "      <th>1</th>\n",
       "      <td>GP</td>\n",
       "      <td>F</td>\n",
       "      <td>17</td>\n",
       "      <td>U</td>\n",
       "      <td>GT3</td>\n",
       "      <td>T</td>\n",
       "      <td>1</td>\n",
       "      <td>1</td>\n",
       "      <td>at_home</td>\n",
       "      <td>other</td>\n",
       "      <td>...</td>\n",
       "      <td>yes</td>\n",
       "      <td>yes</td>\n",
       "      <td>no</td>\n",
       "      <td>5</td>\n",
       "      <td>3</td>\n",
       "      <td>3</td>\n",
       "      <td>1</td>\n",
       "      <td>1</td>\n",
       "      <td>3</td>\n",
       "      <td>4</td>\n",
       "    </tr>\n",
       "    <tr>\n",
       "      <th>2</th>\n",
       "      <td>GP</td>\n",
       "      <td>F</td>\n",
       "      <td>15</td>\n",
       "      <td>U</td>\n",
       "      <td>LE3</td>\n",
       "      <td>T</td>\n",
       "      <td>1</td>\n",
       "      <td>1</td>\n",
       "      <td>at_home</td>\n",
       "      <td>other</td>\n",
       "      <td>...</td>\n",
       "      <td>yes</td>\n",
       "      <td>yes</td>\n",
       "      <td>no</td>\n",
       "      <td>4</td>\n",
       "      <td>3</td>\n",
       "      <td>2</td>\n",
       "      <td>2</td>\n",
       "      <td>3</td>\n",
       "      <td>3</td>\n",
       "      <td>10</td>\n",
       "    </tr>\n",
       "    <tr>\n",
       "      <th>3</th>\n",
       "      <td>GP</td>\n",
       "      <td>F</td>\n",
       "      <td>15</td>\n",
       "      <td>U</td>\n",
       "      <td>GT3</td>\n",
       "      <td>T</td>\n",
       "      <td>4</td>\n",
       "      <td>2</td>\n",
       "      <td>health</td>\n",
       "      <td>services</td>\n",
       "      <td>...</td>\n",
       "      <td>yes</td>\n",
       "      <td>yes</td>\n",
       "      <td>yes</td>\n",
       "      <td>3</td>\n",
       "      <td>2</td>\n",
       "      <td>2</td>\n",
       "      <td>1</td>\n",
       "      <td>1</td>\n",
       "      <td>5</td>\n",
       "      <td>2</td>\n",
       "    </tr>\n",
       "    <tr>\n",
       "      <th>4</th>\n",
       "      <td>GP</td>\n",
       "      <td>F</td>\n",
       "      <td>16</td>\n",
       "      <td>U</td>\n",
       "      <td>GT3</td>\n",
       "      <td>T</td>\n",
       "      <td>3</td>\n",
       "      <td>3</td>\n",
       "      <td>other</td>\n",
       "      <td>other</td>\n",
       "      <td>...</td>\n",
       "      <td>yes</td>\n",
       "      <td>no</td>\n",
       "      <td>no</td>\n",
       "      <td>4</td>\n",
       "      <td>3</td>\n",
       "      <td>2</td>\n",
       "      <td>1</td>\n",
       "      <td>2</td>\n",
       "      <td>5</td>\n",
       "      <td>4</td>\n",
       "    </tr>\n",
       "  </tbody>\n",
       "</table>\n",
       "<p>5 rows × 30 columns</p>\n",
       "</div>"
      ],
      "text/plain": [
       "  school sex  age address famsize Pstatus  Medu  Fedu     Mjob      Fjob  \\\n",
       "0     GP   F   18       U     GT3       A     4     4  at_home   teacher   \n",
       "1     GP   F   17       U     GT3       T     1     1  at_home     other   \n",
       "2     GP   F   15       U     LE3       T     1     1  at_home     other   \n",
       "3     GP   F   15       U     GT3       T     4     2   health  services   \n",
       "4     GP   F   16       U     GT3       T     3     3    other     other   \n",
       "\n",
       "    ...    higher internet  romantic  famrel  freetime goout Dalc Walc health  \\\n",
       "0   ...       yes       no        no       4         3     4    1    1      3   \n",
       "1   ...       yes      yes        no       5         3     3    1    1      3   \n",
       "2   ...       yes      yes        no       4         3     2    2    3      3   \n",
       "3   ...       yes      yes       yes       3         2     2    1    1      5   \n",
       "4   ...       yes       no        no       4         3     2    1    2      5   \n",
       "\n",
       "  absences  \n",
       "0        6  \n",
       "1        4  \n",
       "2       10  \n",
       "3        2  \n",
       "4        4  \n",
       "\n",
       "[5 rows x 30 columns]"
      ]
     },
     "metadata": {},
     "output_type": "display_data"
    }
   ],
   "source": [
    "# Extract feature columns\n",
    "feature_cols = list(student_data.columns[:-1])\n",
    "\n",
    "# Extract target column 'passed'\n",
    "target_col = student_data.columns[-1] \n",
    "\n",
    "# Show the list of columns\n",
    "print \"Feature columns:\\n{}\".format(feature_cols)\n",
    "print \"\\nTarget column: {}\".format(target_col)\n",
    "\n",
    "# Separate the data into feature data and target data (X_all and y_all, respectively)\n",
    "features = student_data[feature_cols]\n",
    "labels = student_data[target_col]\n",
    "\n",
    "# Show the feature information by printing the first five rows\n",
    "print \"\\nFeature values:\"\n",
    "display(features.head())"
   ]
  },
  {
   "cell_type": "code",
   "execution_count": 7,
   "metadata": {
    "collapsed": false,
    "run_control": {
     "frozen": false,
     "read_only": false
    }
   },
   "outputs": [],
   "source": [
    "\n",
    "def numerical_transform_features(features):\n",
    "    # Convert 'yes' and 'no' to numerical values 0 and 1\n",
    "    nominal_cols = features.columns[features.dtypes == 'object']\n",
    "    for col in nominal_cols:\n",
    "        features[col] = features[col].replace(to_replace={'yes':0, 'no':1})\n",
    "    \n",
    "    # Create dummy variables for categorical features like school, famsize, Pstatus, \n",
    "    #  Mjob, Fjob, gaurdian, reason etc. \n",
    "    # Assuming all categorical featyres are nominal\n",
    "    nominal_cols = features.columns[features.dtypes == 'object']\n",
    "    features = pd.get_dummies(features, prefix=nominal_cols)\n",
    "    return features\n"
   ]
  },
  {
   "cell_type": "markdown",
   "metadata": {},
   "source": [
    "# Split Data: \n",
    "\n",
    "Steps to take:\n",
    "\n",
    "1. Convert the features to numerical features\n",
    "2. Create Training and Testing set, so that model can be tested on test set.\n",
    "3. Create Folds of Training set for cross-validation and hyperparameter optimization. \n"
   ]
  },
  {
   "cell_type": "code",
   "execution_count": 8,
   "metadata": {
    "collapsed": false,
    "run_control": {
     "frozen": false,
     "read_only": false
    },
    "scrolled": false
   },
   "outputs": [
    {
     "name": "stderr",
     "output_type": "stream",
     "text": [
      "/Users/Shelley/env/lib/python2.7/site-packages/ipykernel/__main__.py:6: SettingWithCopyWarning: \n",
      "A value is trying to be set on a copy of a slice from a DataFrame.\n",
      "Try using .loc[row_indexer,col_indexer] = value instead\n",
      "\n",
      "See the caveats in the documentation: http://pandas.pydata.org/pandas-docs/stable/indexing.html#indexing-view-versus-copy\n"
     ]
    },
    {
     "name": "stdout",
     "output_type": "stream",
     "text": [
      "Training set has 300 samples.\n",
      "Testing set has 95 samples.\n",
      "Training set has 33.0 % of failed students\n",
      "Testing set has 32.6315789474 % of failed students\n"
     ]
    }
   ],
   "source": [
    "from sklearn.model_selection import train_test_split, StratifiedKFold\n",
    "\n",
    "# Set the number of training points\n",
    "num_train = 300\n",
    "\n",
    "# Convert features to numerical data\n",
    "features_all = numerical_transform_features(features)\n",
    "labels_all = labels.replace({'yes':0, 'no':1})\n",
    "\n",
    "# stratify to avoid having very few examples of failure class in training data. \n",
    "features_train, features_test, labels_train, labels_test = train_test_split(features_all, labels_all,\\\n",
    "                                                train_size=num_train,\\\n",
    "                                                stratify=labels_all, random_state=42)\n",
    "\n",
    "# Folds for cross-validation \n",
    "skf = StratifiedKFold(n_splits=10)\n",
    "cv_folds = skf.split(features_train, labels_train)\n",
    "\n",
    "# Show the results of the split\n",
    "print \"Training set has {} samples.\".format(features_train.shape[0])\n",
    "print \"Testing set has {} samples.\".format(features_test.shape[0])\n",
    "print \"Training set has {} % of failed students\".format(100 * float(sum(labels_train))/labels_train.shape[0])\n",
    "print \"Testing set has {} % of failed students\".format(100 * float(sum(labels_test))/labels_test.shape[0])"
   ]
  },
  {
   "cell_type": "markdown",
   "metadata": {},
   "source": [
    "# Model Evalutation Metrics\n",
    "Framework for evaluating model performance\n"
   ]
  },
  {
   "cell_type": "code",
   "execution_count": 9,
   "metadata": {
    "collapsed": false,
    "run_control": {
     "frozen": false,
     "read_only": false
    }
   },
   "outputs": [],
   "source": [
    "class classifier(object):\n",
    "    def __init__(self, clf, error_metric=None):\n",
    "        self.clf = clf\n",
    "        self.train_time = np.Inf # to indicate its not trained yet\n",
    "        self.predtrain_time = np.Inf # prediction time on testing data\n",
    "        self.predtest_time = np.Inf\n",
    "        self.test_score = 0\n",
    "        self.train_score = 0\n",
    "        self.error_metric = error_metric\n",
    "        \n",
    "    def train(self,features_train, labels_train):\n",
    "        start = time()\n",
    "        self.clf.fit(features_train,labels_train)\n",
    "        self.train_time = time() - start\n",
    "        return\n",
    "    \n",
    "    def predict(self,features_train=pd.DataFrame,features_test=pd.DataFrame):\n",
    "        predictions = []    \n",
    "        if not features_train.empty:\n",
    "            # Make Predictions\n",
    "            start = time()\n",
    "            labels_train_pred = self.clf.predict(features_train)\n",
    "            self.predtrain_time = time()-start\n",
    "            predictions.append(labels_train_pred)\n",
    "           \n",
    "        if not features_test.empty:\n",
    "            # Make Predictions\n",
    "            start = time()\n",
    "            labels_test_pred = self.clf.predict(features_test)\n",
    "            self.predtest_time = time()-start\n",
    "            predictions.append(labels_test_pred)\n",
    "           \n",
    "        return predictions\n",
    "  \n",
    "    def get_error(self, features, labels, test=True):\n",
    "        if test:\n",
    "            labels_train_pred = self.predict(features_train=pd.DataFrame(),\\\n",
    "                                           features_test=features)[0]\n",
    "            self.test_score = self.error_metric(labels_train_pred, labels)\n",
    "            return self.test_score\n",
    "        else:\n",
    "            labels_test_pred = self.predict(features_train=features)[0]\n",
    "            self.train_score = self.error_metric(labels_test_pred, labels)\n",
    "            return self.train_score\n",
    "    \n",
    "    def get_report(self, metric=\"F1\"):\n",
    "        print(\"Time spent in training: {:.4f} secs\".format(self.train_time))\n",
    "        print(\"Time spent in predictions for training set: {:.4f} secs\".format(self.predtrain_time))\n",
    "        print(\"Time spent in predictions for test set: {:.4f} secs\".format(self.predtest_time))\n",
    "        print(\"{} score for training set: {:.4f}\".format(metric, self.train_score))\n",
    "        print(\"{} score for testing set: {:.4f}\".format(metric, self.test_score))\n",
    "    \n",
    "    def draw_boundaries(self):\n",
    "        return\n",
    "    \n",
    "    def draw_roc_curve(self):\n",
    "        return\n",
    "    \n",
    "    def draw_prob_hist(self):\n",
    "        return\n",
    "        \n",
    "              \n",
    "    \n"
   ]
  },
  {
   "cell_type": "code",
   "execution_count": 28,
   "metadata": {
    "collapsed": false
   },
   "outputs": [
    {
     "name": "stdout",
     "output_type": "stream",
     "text": [
      "Time spent in training: 0.0008 secs\n",
      "Time spent in predictions for training set: 0.0035 secs\n",
      "Time spent in predictions for test set: 0.0017 secs\n",
      "Accuracy score for training set: 1.0000\n",
      "Accuracy score for testing set: 0.6737\n",
      "[[54 21]\n",
      " [10 10]]\n"
     ]
    }
   ],
   "source": [
    "# KNN classifier\n",
    "from sklearn.neighbors import KNeighborsClassifier\n",
    "from sklearn.metrics import accuracy_score, f1_score, precision_score, recall_score, confusion_matrix\n",
    "\n",
    "# hyperparameter to optomize : n_neighbhors, weights, metric=Manhattan, KDtree or balltree??\n",
    "clf_knn = KNeighborsClassifier(n_neighbors=6,\\\n",
    "                                weights='distance',\\\n",
    "                                metric=\"hamming\")\n",
    "clf_knn = classifier(clf_knn, accuracy_score)\n",
    "clf_knn.train(features_train, labels_train)\n",
    "predictions = clf_knn.predict(features_train, features_test)\n",
    "clf_knn.get_error(features_train, labels_train, test=False)\n",
    "clf_knn.get_error(features_test, labels_test)\n",
    "clf_knn.get_report(metric=\"Accuracy\")\n",
    "print(confusion_matrix(predictions[1],labels_test))"
   ]
  },
  {
   "cell_type": "code",
   "execution_count": 42,
   "metadata": {
    "collapsed": false,
    "run_control": {
     "frozen": false,
     "read_only": false
    }
   },
   "outputs": [
    {
     "data": {
      "text/plain": [
       "<matplotlib.legend.Legend at 0x10862bcd0>"
      ]
     },
     "execution_count": 42,
     "metadata": {},
     "output_type": "execute_result"
    },
    {
     "data": {
      "image/png": "[encoded data removed]",
      "text/plain": [
       "<matplotlib.figure.Figure at 0x10881f3d0>"
      ]
     },
     "metadata": {},
     "output_type": "display_data"
    },
    {
     "data": {
      "image/png": "[encoded data removed]",
      "text/plain": [
       "<matplotlib.figure.Figure at 0x1086d96d0>"
      ]
     },
     "metadata": {},
     "output_type": "display_data"
    },
    {
     "data": {
      "image/png": "[encoded data removed]",
      "text/plain": [
       "<matplotlib.figure.Figure at 0x106c6e990>"
      ]
     },
     "metadata": {},
     "output_type": "display_data"
    }
   ],
   "source": [
    "## ROC curve\n",
    "y_prob_test = clf_knn.clf.predict_proba(features_test)\n",
    "from sklearn.metrics import roc_curve, auc\n",
    "fpr, tpr, _ = roc_curve(labels_test, y_prob_test[:,1])\n",
    "auc = auc(fpr, tpr)\n",
    "from  matplotlib import pyplot as plt\n",
    "%matplotlib inline\n",
    "plt.figure(1)\n",
    "plt.plot(fpr,tpr,color='g',lw=2, marker='o',label='KNN ')\n",
    "plt.plot([0,1],[0,1],color='navy',lw=2,ls=\"--\", label='Random')\n",
    "plt.xlim([0.0,1.0])\n",
    "plt.ylim([0.0,1.0])\n",
    "plt.xlabel('False Positive Rate')\n",
    "plt.ylabel('True Positive Rate')\n",
    "plt.title('Am I better than random?')\n",
    "plt.legend(loc=\"lower right\")\n",
    "plt.hold(True)\n",
    "plt.figure(2)\n",
    "plt.hist(y_prob_test[:,1],color='red', label=\"Failed Class\")\n",
    "plt.legend(loc=0)\n",
    "plt.figure(3)\n",
    "plt.hist(y_prob_test[:,0],color='green', label=\"Passed Class\")\n",
    "plt.legend(loc=1)"
   ]
  },
  {
   "cell_type": "code",
   "execution_count": 80,
   "metadata": {
    "collapsed": false,
    "run_control": {
     "frozen": false,
     "read_only": false
    }
   },
   "outputs": [
    {
     "name": "stdout",
     "output_type": "stream",
     "text": [
      "Time spent in training: 0.0139 secs\n",
      "Time spent in predictions for training set: 0.0030 secs\n",
      "Time spent in predictions for test set: 0.0030 secs\n",
      "Recall score for training set: 0.8000\n",
      "Recall score for testing set: 0.8333\n"
     ]
    },
    {
     "data": {
      "image/png": "[encoded data removed]",
      "text/plain": [
       "<matplotlib.figure.Figure at 0x107e08850>"
      ]
     },
     "metadata": {},
     "output_type": "display_data"
    },
    {
     "name": "stdout",
     "output_type": "stream",
     "text": [
      "0.762096774194\n"
     ]
    },
    {
     "data": {
      "image/png": "[encoded data removed]",
      "text/plain": [
       "<matplotlib.figure.Figure at 0x108c21350>"
      ]
     },
     "metadata": {},
     "output_type": "display_data"
    },
    {
     "data": {
      "image/png": "[encoded data removed]",
      "text/plain": [
       "<matplotlib.figure.Figure at 0x108d52950>"
      ]
     },
     "metadata": {},
     "output_type": "display_data"
    }
   ],
   "source": [
    "# Random Forest\n",
    "from sklearn.ensemble import RandomForestClassifier\n",
    "\n",
    "# hyperparameters: n_estimators, max_features, max_depth\n",
    "clf_rf = RandomForestClassifier(n_estimators=5, \\\n",
    "                                criterion='entropy',\\\n",
    "                                max_features=\"sqrt\", max_depth=5, min_samples_split=4, random_state=42)\n",
    "                               #class_weight=\"balanced\")\n",
    "clf_rf = classifier(clf_rf, recall_score)\n",
    "clf_rf.train(features_train, labels_train)\n",
    "predictions = clf_rf.predict(features_train, features_test)\n",
    "clf_rf.get_error(features_train, labels_train, test=False)\n",
    "clf_rf.get_error(features_test, labels_test)\n",
    "clf_rf.get_report(metric=\"Recall\")\n",
    "\n",
    "\n",
    "## ROC curve\n",
    "y_prob_test = clf_rf.clf.predict_proba(features_test)\n",
    "from sklearn.metrics import roc_curve, auc\n",
    "fpr, tpr, _ = roc_curve(labels_test, y_prob_test[:,1])\n",
    "auc = auc(fpr, tpr)\n",
    "\n",
    "plt.plot(fpr,tpr,color='darkorange',lw=2, marker='o',label='Random Forest ')\n",
    "plt.show()\n",
    "\n",
    "plt.figure(2)\n",
    "plt.hist(y_prob_test[:,1],color='red', label=\"Failed Class\")\n",
    "plt.legend(loc=0)\n",
    "plt.figure(3)\n",
    "plt.hist(y_prob_test[:,0],color='green', label=\"Passed Class\")\n",
    "plt.legend(loc=1)\n",
    "print(auc)"
   ]
  },
  {
   "cell_type": "markdown",
   "metadata": {},
   "source": [
    "| Classifier        | Training Time(sec) | Prediction Time (test) | F1 Score (train) | F1 Score (test) | Recall(Test)|Accuracy(Test)\n",
    "| :---------------: | :---------------------: | :--------------------: | :--------------: | :-------------: |\n",
    "| **KNN**           | **0.0008** | **0.0018**| **1.00**| 0.3922 |0.5|0.6737\n",
    "| **Random Forest** | 0.0160|0.0033|0.4604|**0.4651**|**0.8333**|0.7579\n",
    "| **Adaboost**      | 0.0138|*0.0004*|0.9538|0.4528|0.5455|0.6947|\n",
    "\n",
    "Parameters\n",
    "- KNN Params : 6 neighbhors, Distance = 'Hamming', weights by 'distance'\n",
    "- Random Forest: 5 DTs, Entropy, Max features = sqrt(n_features), Max depth=5, min_samples_split=4, random_state=42\n",
    "- Adaboost with DT : DT (max_depth=6,min_samples_split=4), n_estimators=5, learning_rate=0.6, random_state=42"
   ]
  },
  {
   "cell_type": "code",
   "execution_count": 112,
   "metadata": {
    "collapsed": false,
    "run_control": {
     "frozen": false,
     "read_only": false
    }
   },
   "outputs": [
    {
     "name": "stdout",
     "output_type": "stream",
     "text": [
      "Time spent in training: 0.0478 secs\n",
      "Time spent in predictions for training set: 0.0012 secs\n",
      "Time spent in predictions for test set: 0.0009 secs\n",
      "Recall score for training set: 1.0000\n",
      "Recall score for testing set: 0.6000\n"
     ]
    }
   ],
   "source": [
    "## Boosting\n",
    "from sklearn.ensemble import AdaBoostClassifier\n",
    "from sklearn.tree import DecisionTreeClassifier\n",
    "\n",
    "bdt = AdaBoostClassifier(DecisionTreeClassifier(max_depth=10, min_samples_split=3),algorithm='SAMME',\\\n",
    "                        n_estimators=15,learning_rate=0.6, random_state=42)\n",
    "\n",
    "clf_bdt = classifier(bdt, recall_score)\n",
    "clf_bdt.train(features_train, labels_train)\n",
    "predictions = clf_bdt.predict(features_train, features_test)\n",
    "clf_bdt.get_error(features_train, labels_train, test=False)\n",
    "clf_bdt.get_error(features_test, labels_test)\n",
    "clf_bdt.get_report(metric=\"Recall\")"
   ]
  },
  {
   "cell_type": "code",
   "execution_count": null,
   "metadata": {
    "collapsed": true
   },
   "outputs": [],
   "source": []
  },
  {
   "cell_type": "code",
   "execution_count": 116,
   "metadata": {
    "collapsed": false
   },
   "outputs": [
    {
     "data": {
      "image/png": "[encoded data removed]",
      "text/plain": [
       "<matplotlib.figure.Figure at 0x107ce11d0>"
      ]
     },
     "metadata": {},
     "output_type": "display_data"
    },
    {
     "name": "stdout",
     "output_type": "stream",
     "text": [
      "0.644153225806\n"
     ]
    },
    {
     "data": {
      "text/plain": [
       "array([ 0.03901693,  0.04256366,  0.04361529,  0.01990501,  0.04308673,\n",
       "        0.05498175,  0.02312729,  0.01136371,  0.01886112,  0.01935951,\n",
       "        0.00705979,  0.00706414,  0.00258689,  0.01873177,  0.0423527 ,\n",
       "        0.04714882,  0.06697684,  0.02391407,  0.03145806,  0.04046665,\n",
       "        0.11244653,  0.00849368,  0.00684546,  0.02049863,  0.01878678,\n",
       "        0.00160166,  0.0095314 ,  0.01086331,  0.00549364,  0.00253639,\n",
       "        0.00861607,  0.01621796,  0.01023235,  0.0074403 ,  0.03137082,\n",
       "        0.0084652 ,  0.00586684,  0.00690339,  0.0126455 ,  0.01848738,\n",
       "        0.00271365,  0.01006926,  0.01521074,  0.00862171,  0.00724821,\n",
       "        0.01165788,  0.00525071,  0.01224381])"
      ]
     },
     "execution_count": 116,
     "metadata": {},
     "output_type": "execute_result"
    }
   ],
   "source": [
    "y_prob_test = clf_bdt.clf.predict_proba(features_test)\n",
    "fpr, tpr, _ = roc_curve(labels_test, y_prob_test[:,1])\n",
    "from sklearn.metrics import  auc\n",
    "auc = auc(fpr, tpr)\n",
    "\n",
    "plt.plot(fpr,tpr,color='darkorange',lw=2, marker='o',label='Random Forest ')\n",
    "plt.show()\n",
    "print(auc)"
   ]
  },
  {
   "cell_type": "code",
   "execution_count": 153,
   "metadata": {
    "collapsed": false
   },
   "outputs": [
    {
     "data": {
      "text/plain": [
       "<matplotlib.legend.Legend at 0x107e4f510>"
      ]
     },
     "execution_count": 153,
     "metadata": {},
     "output_type": "execute_result"
    },
    {
     "data": {
      "image/png": "[encoded data removed]",
      "text/plain": [
       "<matplotlib.figure.Figure at 0x107e4f4d0>"
      ]
     },
     "metadata": {},
     "output_type": "display_data"
    }
   ],
   "source": [
    "## Decision boundaries\n",
    "from sklearn.decomposition import PCA\n",
    "pca_decomp = PCA(n_components=2)\n",
    "features_train_pca = pca_decomp.fit_transform(features_train)\n",
    "features_passed = features_train_pca[labels_train.values==0,:]\n",
    "plt.plot(features_passed[:,0], features_passed[:,1],marker='o',color='g', ls='',label='Passed')\n",
    "features_failed = features_train_pca[labels_train.values==1,:]\n",
    "plt.plot(features_failed[:,0], features_failed[:,1],marker='^',color='r', lw='2',ls='',label='Failed')\n",
    "plt.xlim([-8,20])\n",
    "plt.xlabel('PCA 1')\n",
    "plt.ylabel('PCA 2')\n",
    "plt.title(\"Distribution of Data\")\n",
    "\n",
    "plt.legend(loc=0)\n",
    "\n",
    "\n",
    "\n"
   ]
  },
  {
   "cell_type": "code",
   "execution_count": 145,
   "metadata": {
    "collapsed": false
   },
   "outputs": [
    {
     "name": "stdout",
     "output_type": "stream",
     "text": [
      "Index([u'age', u'Medu', u'Fedu', u'traveltime', u'studytime', u'failures',\n",
      "       u'schoolsup', u'famsup', u'paid', u'activities', u'nursery', u'higher',\n",
      "       u'internet', u'romantic', u'famrel', u'freetime', u'goout', u'Dalc',\n",
      "       u'Walc', u'health', u'absences', u'school_GP', u'school_MS', u'sex_F',\n",
      "       u'sex_M', u'address_R', u'address_U', u'famsize_GT3', u'famsize_LE3',\n",
      "       u'Pstatus_A', u'Pstatus_T', u'Mjob_at_home', u'Mjob_health',\n",
      "       u'Mjob_other', u'Mjob_services', u'Mjob_teacher', u'Fjob_at_home',\n",
      "       u'Fjob_health', u'Fjob_other', u'Fjob_services', u'Fjob_teacher',\n",
      "       u'reason_course', u'reason_home', u'reason_other', u'reason_reputation',\n",
      "       u'guardian_father', u'guardian_mother', u'guardian_other'],\n",
      "      dtype='object')\n"
     ]
    }
   ],
   "source": [
    "# Plotting decision regions\n",
    "x_min, x_max = features[:, 0].min() - 1, X[:, 0].max() + 1\n",
    "y_min, y_max = X[:, 1].min() - 1, X[:, 1].max() + 1\n",
    "xx, yy = np.meshgrid(np.arange(x_min, x_max, 0.1),\n",
    "                     np.arange(y_min, y_max, 0.1))\n",
    "\n",
    "f, axarr = plt.subplots(2, 2, sharex='col', sharey='row', figsize=(10, 8))\n",
    "\n",
    "for idx, clf, tt in zip(product([0, 1], [0, 1]),\n",
    "                        [clf1, clf2, clf3, eclf],\n",
    "                        ['Decision Tree (depth=4)', 'KNN (k=7)',\n",
    "                         'Kernel SVM', 'Soft Voting']):\n",
    "\n",
    "    Z = clf.predict(np.c_[xx.ravel(), yy.ravel()])\n",
    "    Z = Z.reshape(xx.shape)\n",
    "\n",
    "    axarr[idx[0], idx[1]].contourf(xx, yy, Z, alpha=0.4)\n",
    "    axarr[idx[0], idx[1]].scatter(X[:, 0], X[:, 1], c=y, alpha=0.8)\n",
    "    axarr[idx[0], idx[1]].set_title(tt)\n",
    "\n",
    "plt.show()\n"
   ]
  },
  {
   "cell_type": "code",
   "execution_count": null,
   "metadata": {
    "collapsed": true
   },
   "outputs": [],
   "source": [
    "## Resample data and run the whole thing again"
   ]
  }
 ],
 "metadata": {
  "hide_input": false,
  "kernelspec": {
   "display_name": "Python 2",
   "language": "python",
   "name": "python2"
  },
  "language_info": {
   "codemirror_mode": {
    "name": "ipython",
    "version": 2
   },
   "file_extension": ".py",
   "mimetype": "text/x-python",
   "name": "python",
   "nbconvert_exporter": "python",
   "pygments_lexer": "ipython2",
   "version": "2.7.10"
  },
  "latex_envs": {
   "bibliofile": "biblio.bib",
   "cite_by": "apalike",
   "current_citInitial": 1,
   "eqLabelWithNumbers": true,
   "eqNumInitial": 0
  },
  "toc": {
   "nav_menu": {
    "height": "102px",
    "width": "252px"
   },
   "navigate_menu": true,
   "number_sections": true,
   "sideBar": true,
   "threshold": 4,
   "toc_cell": false,
   "toc_section_display": "block",
   "toc_window_display": false
  }
 },
 "nbformat": 4,
 "nbformat_minor": 1
}
